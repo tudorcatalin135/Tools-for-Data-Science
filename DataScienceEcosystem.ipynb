{
 "cells": [
  {
   "cell_type": "markdown",
   "id": "d97159a1-48d7-4ef3-b10a-ce780ac40bcc",
   "metadata": {},
   "source": [
    "# Data Science Tools and Ecosystem"
   ]
  },
  {
   "cell_type": "markdown",
   "id": "1b9d68ba-f5c5-4d1d-a1e5-a1d7444cae1e",
   "metadata": {},
   "source": [
    "In this notebook, Data Science Tools and Ecosystem are summarized"
   ]
  },
  {
   "cell_type": "markdown",
   "id": "894f797d-9663-48b4-a667-cbbfe8dc77b3",
   "metadata": {},
   "source": [
    "**Obejctives:**\n",
    "- List commonly used libraries in Data Science\n",
    "- List some of the Data Science open-source tools\n",
    "- Provide example of arithmetic expression in Python\n",
    "- Provide a practical example of converting minutes to hours in Python"
   ]
  },
  {
   "cell_type": "markdown",
   "id": "49774869-96c7-491f-b0e5-adfe6bbda196",
   "metadata": {},
   "source": [
    "Some of the popular languages that Data Scientists use are:\n",
    "1. Python\n",
    "2. R\n",
    "3. SQL\n",
    "4. Julia\n"
   ]
  },
  {
   "cell_type": "markdown",
   "id": "bb0286c9-bd65-4718-8106-615aa42e3cd4",
   "metadata": {},
   "source": [
    "Some of the commonly used libraries used by Data Scientists include:\n",
    "1. NumPy\n",
    "2. Pandas\n",
    "3. Matplotlib\n",
    "4. Scikit-learn"
   ]
  },
  {
   "cell_type": "markdown",
   "id": "ab3ab3e4-b07f-4666-ab53-b9ae23ae3149",
   "metadata": {},
   "source": [
    "|Data Science Tools|\n",
    "|------------------|\n",
    "|Jupyterlab|\n",
    "|RStudio|\n",
    "|Spyder|"
   ]
  },
  {
   "cell_type": "markdown",
   "id": "17446cc6-7e95-4f7b-8f83-7538430f5317",
   "metadata": {},
   "source": [
    "### Below are a few examples of evaluating arithmetic expressions in Python\n",
    "- **Addition**: 5 + 3 results in 8\n",
    "- **Subtraction**: 10 - 4 results in 6\n",
    "- **Multiplication**: 7 * 2 results in 14\n",
    "- **Division**: 10 / 2 results in 5.0"
   ]
  },
  {
   "cell_type": "code",
   "execution_count": 6,
   "id": "79c1755b-0c92-4e5b-afaa-5c16d020b5b8",
   "metadata": {},
   "outputs": [
    {
     "data": {
      "text/plain": [
       "17"
      ]
     },
     "execution_count": 6,
     "metadata": {},
     "output_type": "execute_result"
    }
   ],
   "source": [
    "# This a simple arithmetic expression to mutiply then add integers\n",
    "(3*4)+5"
   ]
  },
  {
   "cell_type": "code",
   "execution_count": 7,
   "id": "7c40ac2a-371b-4465-8fce-f619630048b9",
   "metadata": {},
   "outputs": [
    {
     "data": {
      "text/plain": [
       "3.3333333333333335"
      ]
     },
     "execution_count": 7,
     "metadata": {},
     "output_type": "execute_result"
    }
   ],
   "source": [
    "# This will convert 200 minutes to hours by diving by 60\n",
    "200 / 60"
   ]
  },
  {
   "cell_type": "markdown",
   "id": "99033834-2542-4db1-ac22-6609a416f776",
   "metadata": {},
   "source": [
    "## Author\n",
    "Tudor Gabriel-Catalin"
   ]
  }
 ],
 "metadata": {
  "kernelspec": {
   "display_name": "Python 3 (ipykernel)",
   "language": "python",
   "name": "python3"
  },
  "language_info": {
   "codemirror_mode": {
    "name": "ipython",
    "version": 3
   },
   "file_extension": ".py",
   "mimetype": "text/x-python",
   "name": "python",
   "nbconvert_exporter": "python",
   "pygments_lexer": "ipython3",
   "version": "3.12.7"
  }
 },
 "nbformat": 4,
 "nbformat_minor": 5
}
